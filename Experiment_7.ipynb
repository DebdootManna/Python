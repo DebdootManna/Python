{
 "cells": [
  {
   "cell_type": "code",
   "execution_count": 3,
   "id": "0b09dde0-544e-49d8-9698-d35870cd3c2c",
   "metadata": {},
   "outputs": [
    {
     "name": "stdout",
     "output_type": "stream",
     "text": [
      "Content written to example.txt\n",
      "Content appended to example.txt\n",
      "File content:\n",
      " This is the first line.\n",
      "This is an appended line.\n",
      "\n"
     ]
    }
   ],
   "source": [
    "# Write a code to open a file in read, write, or append mode using the open function using python. \n",
    "\n",
    "def file_operations(filename, mode, content=None):\n",
    "    try:\n",
    "        if mode == 'r':\n",
    "            with open(filename, 'r') as file:\n",
    "                data = file.read()\n",
    "                print(\"File content:\\n\", data)\n",
    "        \n",
    "        elif mode == 'w':\n",
    "            with open(filename, 'w') as file:\n",
    "                file.write(content if content else \"\")\n",
    "                print(f\"Content written to {filename}\")\n",
    "        \n",
    "        elif mode == 'a':\n",
    "            with open(filename, 'a') as file:\n",
    "                file.write(content if content else \"\")\n",
    "                print(f\"Content appended to {filename}\")\n",
    "        \n",
    "        else:\n",
    "            print(\"Invalid mode! Use 'r' for read, 'w' for write, or 'a' for append.\")\n",
    "    \n",
    "    except FileNotFoundError:\n",
    "        print(\"Error: The file does not exist. Please check the filename.\")\n",
    "    except Exception as e:\n",
    "        print(f\"An error occurred: {e}\")\n",
    "\n",
    "# Example Usage\n",
    "filename = \"example.txt\"\n",
    "\n",
    "# Writing to a file\n",
    "file_operations(filename, 'w',\"This is the first line.\\n\")\n",
    "\n",
    "# Appending to a file\n",
    "file_operations(filename, 'a', \"This is an appended line.\\n\")\n",
    "\n",
    "# Reading the file\n",
    "file_operations(filename, 'r')\n"
   ]
  },
  {
   "cell_type": "code",
   "execution_count": 4,
   "id": "e3fedf4e-ede5-4dbd-88f8-ec77e0e47ba8",
   "metadata": {},
   "outputs": [
    {
     "name": "stdout",
     "output_type": "stream",
     "text": [
      "Reading entire content using read():\n",
      "First line\n",
      "Second line\n",
      "Third line\n",
      "\n",
      "--------------------------------------------------\n",
      "Reading line by line using readline():\n",
      "First line\n",
      "Second line\n",
      "Third line\n",
      "--------------------------------------------------\n",
      "Reading all lines into a list using readlines():\n",
      "First line\n",
      "Second line\n",
      "Third line\n",
      "--------------------------------------------------\n"
     ]
    }
   ],
   "source": [
    "# Write a program to read the entire content of a file using read(), readline(), readlines().\n",
    "\n",
    "def read_file_using_methods(filename):\n",
    "   \n",
    "    try:\n",
    "        # Using read()\n",
    "        print(\"Reading entire content using read():\")\n",
    "        with open(filename, 'r') as file:\n",
    "            content = file.read()\n",
    "            print(content)\n",
    "        print(\"-\" * 50)\n",
    "\n",
    "        # Using readline()\n",
    "        print(\"Reading line by line using readline():\")\n",
    "        with open(filename, 'r') as file:\n",
    "            line = file.readline()\n",
    "            while line:\n",
    "                print(line.strip())  # Strip removes extra newline characters\n",
    "                line = file.readline()\n",
    "        print(\"-\" * 50)\n",
    "\n",
    "        # Using readlines()\n",
    "        print(\"Reading all lines into a list using readlines():\")\n",
    "        with open(filename, 'r') as file:\n",
    "            lines = file.readlines()\n",
    "            for line in lines:\n",
    "                print(line.strip())  # Strip removes extra newline characters\n",
    "        print(\"-\" * 50)\n",
    "\n",
    "    except FileNotFoundError:\n",
    "        print(f\"Error: The file '{filename}' does not exist.\")\n",
    "    except Exception as e:\n",
    "        print(f\"An error occurred: {e}\")\n",
    "\n",
    "# Example usage\n",
    "filename = \"sample.txt\"\n",
    "\n",
    "# Creating a sample file for demonstration\n",
    "with open(filename, 'w') as f:\n",
    "    f.write(\"First line\\nSecond line\\nThird line\\n\")\n",
    "\n",
    "# Calling the function to read the file\n",
    "read_file_using_methods(filename)"
   ]
  },
  {
   "cell_type": "code",
   "execution_count": 10,
   "id": "e720c32d-5071-4b77-a05b-4cc01a57e323",
   "metadata": {},
   "outputs": [
    {
     "name": "stdout",
     "output_type": "stream",
     "text": [
      "Data written to file using write().\n",
      "Data written to file using writelines().\n",
      "\n",
      "Verifying written content:\n",
      "This is the first line.\n",
      "This is the second line.\n",
      "This is the third line.\n",
      "This is the fourth line.\n",
      "\n"
     ]
    }
   ],
   "source": [
    "# Write a program to write data to a file using write() and writelines()\n",
    "\n",
    "def write_to_file(filename):\n",
    "    try:\n",
    "        # Using write()\n",
    "        with open(filename, 'w') as file:\n",
    "            file.write(\"This is the first line.\\n\")\n",
    "            file.write(\"This is the second line.\\n\")\n",
    "        print(\"Data written to file using write().\")\n",
    "\n",
    "        # Using writelines()\n",
    "        lines = [\"This is the third line.\\n\", \"This is the fourth line.\\n\"]\n",
    "        with open(filename, 'a') as file:  # 'a' mode to append content\n",
    "            file.writelines(lines)\n",
    "        print(\"Data written to file using writelines().\")\n",
    "\n",
    "    except Exception as e:\n",
    "        print(f\"An error occurred: {e}\")\n",
    "\n",
    "# Example usage\n",
    "filename = \"output.txt\"\n",
    "write_to_file(filename)\n",
    "\n",
    "# Reading the file to verify content\n",
    "print(\"\\nVerifying written content:\")\n",
    "with open(filename, 'r') as file:\n",
    "    print(file.read())"
   ]
  },
  {
   "cell_type": "code",
   "execution_count": 11,
   "id": "22a0afc4-5137-436f-b38c-1086548cb257",
   "metadata": {},
   "outputs": [
    {
     "name": "stdout",
     "output_type": "stream",
     "text": [
      "Data appended to the file successfully.\n",
      "Data appended to the file successfully.\n",
      "\n",
      "Verifying appended content:\n",
      "Initial content in the file.\n",
      "This is the first appended line.\n",
      "This is the second appended line.\n",
      "\n"
     ]
    }
   ],
   "source": [
    "# Write a program to append data to the end of a file using write() in append mode.\n",
    "\n",
    "def append_to_file(filename, data):\n",
    "\n",
    "    try:\n",
    "        with open(filename, 'a') as file:\n",
    "            file.write(data + \"\\n\")  # Appending data with a newline\n",
    "        print(\"Data appended to the file successfully.\")\n",
    "\n",
    "    except Exception as e:\n",
    "        print(f\"An error occurred: {e}\")\n",
    "\n",
    "# Example usage\n",
    "filename = \"append_example.txt\"\n",
    "\n",
    "# Creating the file with initial content (if not already present)\n",
    "with open(filename, 'w') as file:\n",
    "    file.write(\"Initial content in the file.\\n\")\n",
    "\n",
    "# Appending data\n",
    "append_to_file(filename, \"This is the first appended line.\")\n",
    "append_to_file(filename, \"This is the second appended line.\")\n",
    "\n",
    "# Verifying the content of the file\n",
    "print(\"\\nVerifying appended content:\")\n",
    "with open(filename, 'r') as file:\n",
    "    print(file.read())"
   ]
  },
  {
   "cell_type": "code",
   "execution_count": null,
   "id": "069f9d17-3bae-4bde-9248-a5e4ee41f745",
   "metadata": {},
   "outputs": [],
   "source": [
    "# Write a Perform the different file operations (close, tell, seek, os.path.exists, os.remove, os.rename, os.path) \n"
   ]
  }
 ],
 "metadata": {
  "kernelspec": {
   "display_name": "Python 3 (ipykernel)",
   "language": "python",
   "name": "python3"
  },
  "language_info": {
   "codemirror_mode": {
    "name": "ipython",
    "version": 3
   },
   "file_extension": ".py",
   "mimetype": "text/x-python",
   "name": "python",
   "nbconvert_exporter": "python",
   "pygments_lexer": "ipython3",
   "version": "3.12.7"
  }
 },
 "nbformat": 4,
 "nbformat_minor": 5
}
