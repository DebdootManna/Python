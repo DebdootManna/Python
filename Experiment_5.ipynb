{
 "cells": [
  {
   "cell_type": "code",
   "execution_count": 1,
   "id": "3271bd09-adab-4ba2-b34d-e54184dc2f09",
   "metadata": {},
   "outputs": [
    {
     "name": "stdout",
     "output_type": "stream",
     "text": [
      "Woof\n",
      "Meow\n",
      "Moo\n"
     ]
    }
   ],
   "source": [
    "# Write a program to demonstrate polymorphism by defining a common interface and implementing it in multiple classes..\n",
    "\n",
    "from abc import ABC, abstractmethod\n",
    "\n",
    "# Define a common interface (abstract class)\n",
    "class Animal(ABC):\n",
    "    @abstractmethod\n",
    "    def sound(self):\n",
    "        pass\n",
    "\n",
    "# Implement the common interface in multiple classes\n",
    "class Dog(Animal):\n",
    "    def sound(self):\n",
    "        return \"Woof\"\n",
    "\n",
    "class Cat(Animal):\n",
    "    def sound(self):\n",
    "        return \"Meow\"\n",
    "\n",
    "class Cow(Animal):\n",
    "    def sound(self):\n",
    "        return \"Moo\"\n",
    "\n",
    "# Function to demonstrate polymorphism\n",
    "def animal_sound(animal: Animal):\n",
    "    print(animal.sound())\n",
    "\n",
    "# Testing polymorphism\n",
    "dog = Dog()\n",
    "cat = Cat()\n",
    "cow = Cow()\n",
    "\n",
    "# Passing different objects to the same function\n",
    "animal_sound(dog)  \n",
    "animal_sound(cat)  \n",
    "animal_sound(cow) "
   ]
  },
  {
   "cell_type": "code",
   "execution_count": 7,
   "id": "19b885df-a3d8-4658-a9f3-547ef8b70594",
   "metadata": {},
   "outputs": [
    {
     "name": "stdout",
     "output_type": "stream",
     "text": [
      "Generic student status\n",
      "Undergraduate student\n",
      "Graduate student\n"
     ]
    }
   ],
   "source": [
    "# Write a program to override methods in a subclass to provide specific implementations.\n",
    "\n",
    "# Define a base class\n",
    "class Student:\n",
    "    def get_status(self):\n",
    "        return \"Generic student status\"\n",
    "\n",
    "# Define a subclass for Undergraduate students that overrides get_status method\n",
    "class UndergraduateStudent(Student):\n",
    "    def get_status(self):\n",
    "        return \"Undergraduate student\"\n",
    "\n",
    "# Define a subclass for Graduate students that overrides get_status method\n",
    "class GraduateStudent(Student):\n",
    "    def get_status(self):\n",
    "        return \"Graduate student\"\n",
    "\n",
    "# Function to demonstrate method overriding\n",
    "def print_student_status(student: Student):\n",
    "    print(student.get_status())\n",
    "\n",
    "# Testing the method overriding\n",
    "student = Student()\n",
    "undergraduate = UndergraduateStudent()\n",
    "graduate = GraduateStudent()\n",
    "\n",
    "# Calling the overridden methods\n",
    "print_student_status(student)         # Output: Generic student status\n",
    "print_student_status(undergraduate)   # Output: Undergraduate student\n",
    "print_student_status(graduate)        # Output: Graduate student"
   ]
  },
  {
   "cell_type": "code",
   "execution_count": 9,
   "id": "63d9bb8c-b300-4ca8-a4dc-08b27a47e0ea",
   "metadata": {},
   "outputs": [
    {
     "name": "stdout",
     "output_type": "stream",
     "text": [
      "15\n",
      "8.0\n",
      "10\n"
     ]
    }
   ],
   "source": [
    "# Write a program to define multiple methods with the same name but different parameters to handle different types of inputs.\n",
    "\n",
    "class MathOperations:\n",
    "    # Method to add two numbers (handles two integer inputs)\n",
    "    def add(self, a, b):\n",
    "        if isinstance(a, int) and isinstance(b, int):\n",
    "            return a + b\n",
    "        elif isinstance(a, float) and isinstance(b, float):\n",
    "            return a + b\n",
    "        else:\n",
    "            raise TypeError(\"Both inputs must be either integers or floats\")\n",
    "    \n",
    "    # Method to add a list of numbers (handles multiple inputs as a list)\n",
    "    def add(self, a, b=None):\n",
    "        if isinstance(a, list):\n",
    "            return sum(a)\n",
    "        elif b is not None:\n",
    "            return a + b\n",
    "        else:\n",
    "            raise TypeError(\"Invalid input. Expected a list or two numbers.\")\n",
    "\n",
    "# Testing the methods\n",
    "math = MathOperations()\n",
    "\n",
    "# Adding two integers\n",
    "print(math.add(10, 5))          # Output: 15\n",
    "\n",
    "# Adding two floats\n",
    "print(math.add(3.5, 4.5))       # Output: 8.0\n",
    "\n",
    "# Adding a list of numbers\n",
    "print(math.add([1, 2, 3, 4]))   # Output: 10"
   ]
  },
  {
   "cell_type": "code",
   "execution_count": 11,
   "id": "10f54118-eb49-41d0-9ed5-641892ee54fe",
   "metadata": {},
   "outputs": [
    {
     "name": "stdout",
     "output_type": "stream",
     "text": [
      "Employee Count: 2\n",
      "Employee Count after adding new employee: 3\n"
     ]
    }
   ],
   "source": [
    "# Write a program to define class methods using the @classmethod decorator to operate on class-level data.\n",
    "\n",
    "class Employee:\n",
    "    # Class-level data (shared among all instances)\n",
    "    employee_count = 0\n",
    "\n",
    "    def __init__(self, name, position):\n",
    "        self.name = name\n",
    "        self.position = position\n",
    "        Employee.employee_count += 1  # Increment the employee count whenever a new employee is created\n",
    "\n",
    "    # Class method to get the current employee count\n",
    "    @classmethod\n",
    "    def get_employee_count(cls):\n",
    "        return cls.employee_count\n",
    "\n",
    "    # Class method to create a new employee using class data\n",
    "    @classmethod\n",
    "    def create_employee(cls, name, position):\n",
    "        return cls(name, position)\n",
    "\n",
    "# Testing the class methods\n",
    "emp1 = Employee(\"John Doe\", \"Software Engineer\")\n",
    "emp2 = Employee(\"Jane Smith\", \"Data Scientist\")\n",
    "\n",
    "# Accessing the class method to get the employee count\n",
    "print(\"Employee Count:\", Employee.get_employee_count())  # Output: Employee Count: 2\n",
    "\n",
    "# Using the class method to create a new employee\n",
    "emp3 = Employee.create_employee(\"Alice Brown\", \"Product Manager\")\n",
    "# Checking the employee count after creating another employee\n",
    "print(\"Employee Count after adding new employee:\", Employee.get_employee_count())  # Output: Employee Count after adding new employee: 3\n"
   ]
  },
  {
   "cell_type": "code",
   "execution_count": 13,
   "id": "4890ade5-c26b-4e9d-8d16-6b1e582f9056",
   "metadata": {},
   "outputs": [
    {
     "name": "stdout",
     "output_type": "stream",
     "text": [
      "Addition of 5 and 3: 8\n",
      "Multiplication of 5 and 3: 15\n",
      "Square of 4: 16\n",
      "Addition using instance: 30\n"
     ]
    }
   ],
   "source": [
    "# Write a program to define static methods using the @staticmethod decorator for utility functions that do not depend on instance or class data.\n",
    "\n",
    "class MathUtils:\n",
    "    \n",
    "    @staticmethod\n",
    "    def add(a, b):\n",
    "        return a + b\n",
    "    \n",
    "    @staticmethod\n",
    "    def multiply(a, b):\n",
    "        return a * b\n",
    "    \n",
    "    @staticmethod\n",
    "    def square(number):\n",
    "        return number ** 2\n",
    "\n",
    "# Testing the static methods\n",
    "print(\"Addition of 5 and 3:\", MathUtils.add(5, 3))       # Output: 8\n",
    "print(\"Multiplication of 5 and 3:\", MathUtils.multiply(5, 3))  # Output: 15\n",
    "print(\"Square of 4:\", MathUtils.square(4))                # Output: 16\n",
    "\n",
    "# Static methods can also be called on instances (although it's not common practice)\n",
    "math_utils_instance = MathUtils()\n",
    "print(\"Addition using instance:\", math_utils_instance.add(10, 20))  # Output: 30"
   ]
  },
  {
   "cell_type": "code",
   "execution_count": null,
   "id": "1bb05cff-9997-4dae-a3b0-558615850700",
   "metadata": {},
   "outputs": [],
   "source": [
    "# "
   ]
  }
 ],
 "metadata": {
  "kernelspec": {
   "display_name": "Python 3 (ipykernel)",
   "language": "python",
   "name": "python3"
  },
  "language_info": {
   "codemirror_mode": {
    "name": "ipython",
    "version": 3
   },
   "file_extension": ".py",
   "mimetype": "text/x-python",
   "name": "python",
   "nbconvert_exporter": "python",
   "pygments_lexer": "ipython3",
   "version": "3.12.7"
  }
 },
 "nbformat": 4,
 "nbformat_minor": 5
}
