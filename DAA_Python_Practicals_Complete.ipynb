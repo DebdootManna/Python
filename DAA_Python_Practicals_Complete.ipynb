{
 "cells": [
  {
   "cell_type": "markdown",
   "id": "04fd0849",
   "metadata": {},
   "source": [
    "# 📘 DAA Python Code Examples (Jupyter Version)\n",
    "All major topics with a minimum of 3 LeetCode-based problems each, written in Python."
   ]
  },
  {
   "cell_type": "markdown",
   "id": "a2d8f46c",
   "metadata": {},
   "source": [
    "## 🔁 1. Recursion and Iteration"
   ]
  },
  {
   "cell_type": "code",
   "execution_count": null,
   "id": "34129519",
   "metadata": {},
   "outputs": [],
   "source": [
    "def factorial(n):\n",
    "    return 1 if n == 0 else n * factorial(n-1)"
   ]
  },
  {
   "cell_type": "code",
   "execution_count": null,
   "id": "11b4e0a7",
   "metadata": {},
   "outputs": [],
   "source": [
    "def fib(n):\n",
    "    if n <= 1:\n",
    "        return n\n",
    "    return fib(n-1) + fib(n-2)"
   ]
  },
  {
   "cell_type": "code",
   "execution_count": null,
   "id": "7246562a",
   "metadata": {},
   "outputs": [],
   "source": [
    "class ListNode:\n",
    "    def __init__(self, val=0, next=None):\n",
    "        self.val = val\n",
    "        self.next = next\n",
    "\n",
    "def reverseList(head):\n",
    "    if not head or not head.next:\n",
    "        return head\n",
    "    newHead = reverseList(head.next)\n",
    "    head.next.next = head\n",
    "    head.next = None\n",
    "    return newHead"
   ]
  },
  {
   "cell_type": "markdown",
   "id": "8a0be4ee",
   "metadata": {},
   "source": [
    "## 🔍 2. Searching and Sorting"
   ]
  },
  {
   "cell_type": "code",
   "execution_count": null,
   "id": "c82364fc",
   "metadata": {},
   "outputs": [],
   "source": [
    "def binarySearch(nums, target):\n",
    "    left, right = 0, len(nums)-1\n",
    "    while left <= right:\n",
    "        mid = (left+right)//2\n",
    "        if nums[mid] == target:\n",
    "            return mid\n",
    "        elif nums[mid] < target:\n",
    "            left = mid + 1\n",
    "        else:\n",
    "            right = mid - 1\n",
    "    return -1"
   ]
  },
  {
   "cell_type": "code",
   "execution_count": null,
   "id": "5eda7f01",
   "metadata": {},
   "outputs": [],
   "source": [
    "def insertionSort(arr):\n",
    "    for i in range(1, len(arr)):\n",
    "        key = arr[i]\n",
    "        j = i - 1\n",
    "        while j >= 0 and key < arr[j]:\n",
    "            arr[j+1] = arr[j]\n",
    "            j -= 1\n",
    "        arr[j+1] = key\n",
    "    return arr"
   ]
  },
  {
   "cell_type": "code",
   "execution_count": null,
   "id": "6a6bce8e",
   "metadata": {},
   "outputs": [],
   "source": [
    "def twoSum(nums, target):\n",
    "    map = {}\n",
    "    for i, num in enumerate(nums):\n",
    "        if target - num in map:\n",
    "            return [map[target - num], i]\n",
    "        map[num] = i"
   ]
  },
  {
   "cell_type": "markdown",
   "id": "64ce7c0e",
   "metadata": {},
   "source": [
    "## ✂️ 3. Divide and Conquer"
   ]
  },
  {
   "cell_type": "code",
   "execution_count": null,
   "id": "3c9a63c7",
   "metadata": {},
   "outputs": [],
   "source": [
    "def mergeSort(arr):\n",
    "    if len(arr) > 1:\n",
    "        mid = len(arr) // 2\n",
    "        L = mergeSort(arr[:mid])\n",
    "        R = mergeSort(arr[mid:])\n",
    "        return merge(L, R)\n",
    "    return arr\n",
    "\n",
    "def merge(left, right):\n",
    "    merged = []\n",
    "    i = j = 0\n",
    "    while i < len(left) and j < len(right):\n",
    "        if left[i] < right[j]:\n",
    "            merged.append(left[i])\n",
    "            i += 1\n",
    "        else:\n",
    "            merged.append(right[j])\n",
    "            j += 1\n",
    "    merged.extend(left[i:])\n",
    "    merged.extend(right[j:])\n",
    "    return merged"
   ]
  },
  {
   "cell_type": "code",
   "execution_count": null,
   "id": "20ccef19",
   "metadata": {},
   "outputs": [],
   "source": [
    "def sortArray(nums):\n",
    "    return mergeSort(nums)"
   ]
  },
  {
   "cell_type": "code",
   "execution_count": null,
   "id": "e42d98c8",
   "metadata": {},
   "outputs": [],
   "source": [
    "import heapq\n",
    "def findKthLargest(nums, k):\n",
    "    return heapq.nlargest(k, nums)[-1]"
   ]
  },
  {
   "cell_type": "markdown",
   "id": "2b612e6a",
   "metadata": {},
   "source": [
    "## 💰 4. Greedy Approach"
   ]
  },
  {
   "cell_type": "code",
   "execution_count": null,
   "id": "4fbf5254",
   "metadata": {},
   "outputs": [],
   "source": [
    "def fractionalKnapsack(items, capacity):\n",
    "    items.sort(key=lambda x: x[1]/x[0], reverse=True)\n",
    "    value = 0\n",
    "    for weight, profit in items:\n",
    "        if capacity >= weight:\n",
    "            capacity -= weight\n",
    "            value += profit\n",
    "        else:\n",
    "            value += (profit/weight)*capacity\n",
    "            break\n",
    "    return value"
   ]
  },
  {
   "cell_type": "code",
   "execution_count": null,
   "id": "8c42710b",
   "metadata": {},
   "outputs": [],
   "source": [
    "def canJump(nums):\n",
    "    max_reach = 0\n",
    "    for i, jump in enumerate(nums):\n",
    "        if i > max_reach:\n",
    "            return False\n",
    "        max_reach = max(max_reach, i + jump)\n",
    "    return True"
   ]
  },
  {
   "cell_type": "code",
   "execution_count": null,
   "id": "54756be2",
   "metadata": {},
   "outputs": [],
   "source": [
    "def findMinArrowShots(points):\n",
    "    points.sort(key=lambda x: x[1])\n",
    "    arrows = 1\n",
    "    end = points[0][1]\n",
    "    for i in range(1, len(points)):\n",
    "        if points[i][0] > end:\n",
    "            arrows += 1\n",
    "            end = points[i][1]\n",
    "    return arrows"
   ]
  },
  {
   "cell_type": "markdown",
   "id": "211ec6b2",
   "metadata": {},
   "source": [
    "## 📦 5. Dynamic Programming"
   ]
  },
  {
   "cell_type": "code",
   "execution_count": null,
   "id": "cde41cf0",
   "metadata": {},
   "outputs": [],
   "source": [
    "def knapsack(weights, values, capacity):\n",
    "    n = len(weights)\n",
    "    dp = [[0]*(capacity+1) for _ in range(n+1)]\n",
    "    for i in range(1, n+1):\n",
    "        for w in range(capacity+1):\n",
    "            if weights[i-1] <= w:\n",
    "                dp[i][w] = max(dp[i-1][w], values[i-1] + dp[i-1][w - weights[i-1]])\n",
    "            else:\n",
    "                dp[i][w] = dp[i-1][w]\n",
    "    return dp[n][capacity]"
   ]
  },
  {
   "cell_type": "code",
   "execution_count": null,
   "id": "47de5c9b",
   "metadata": {},
   "outputs": [],
   "source": [
    "def longestCommonSubsequence(text1, text2):\n",
    "    dp = [[0]*(len(text2)+1) for _ in range(len(text1)+1)]\n",
    "    for i in range(1, len(text1)+1):\n",
    "        for j in range(1, len(text2)+1):\n",
    "            if text1[i-1] == text2[j-1]:\n",
    "                dp[i][j] = dp[i-1][j-1] + 1\n",
    "            else:\n",
    "                dp[i][j] = max(dp[i-1][j], dp[i][j-1])\n",
    "    return dp[-1][-1]"
   ]
  },
  {
   "cell_type": "code",
   "execution_count": null,
   "id": "7be5afa1",
   "metadata": {},
   "outputs": [],
   "source": [
    "import sys\n",
    "def matrixChainOrder(p):\n",
    "    n = len(p) - 1\n",
    "    m = [[0]*n for _ in range(n)]\n",
    "    for L in range(2, n+1):\n",
    "        for i in range(n - L + 1):\n",
    "            j = i + L - 1\n",
    "            m[i][j] = sys.maxsize\n",
    "            for k in range(i, j):\n",
    "                q = m[i][k] + m[k+1][j] + p[i]*p[k+1]*p[j+1]\n",
    "                if q < m[i][j]:\n",
    "                    m[i][j] = q\n",
    "    return m[0][n-1]"
   ]
  },
  {
   "cell_type": "markdown",
   "id": "0a5e5927",
   "metadata": {},
   "source": [
    "## 🔄 6. Backtracking and Branch and Bound"
   ]
  },
  {
   "cell_type": "code",
   "execution_count": null,
   "id": "c28af968",
   "metadata": {},
   "outputs": [],
   "source": [
    "def solveNQueens(n):\n",
    "    res = []\n",
    "    board = [[\".\"]*n for _ in range(n)]\n",
    "    def isSafe(r, c):\n",
    "        for i in range(r):\n",
    "            if board[i][c] == \"Q\": return False\n",
    "            if c-i >= 0 and board[r-i-1][c-i] == \"Q\": return False\n",
    "            if c+i < n and board[r-i-1][c+i] == \"Q\": return False\n",
    "        return True\n",
    "    def backtrack(r):\n",
    "        if r == n:\n",
    "            res.append([\"\".join(row) for row in board])\n",
    "            return\n",
    "        for c in range(n):\n",
    "            if isSafe(r, c):\n",
    "                board[r][c] = \"Q\"\n",
    "                backtrack(r+1)\n",
    "                board[r][c] = \".\"\n",
    "    backtrack(0)\n",
    "    return res"
   ]
  },
  {
   "cell_type": "code",
   "execution_count": null,
   "id": "918e4765",
   "metadata": {},
   "outputs": [],
   "source": [
    "def subsets(nums):\n",
    "    res = []\n",
    "    def backtrack(start, path):\n",
    "        res.append(path[:])\n",
    "        for i in range(start, len(nums)):\n",
    "            path.append(nums[i])\n",
    "            backtrack(i+1, path)\n",
    "            path.pop()\n",
    "    backtrack(0, [])\n",
    "    return res"
   ]
  },
  {
   "cell_type": "code",
   "execution_count": null,
   "id": "4d11b6f7",
   "metadata": {},
   "outputs": [],
   "source": [
    "def combinationSum(candidates, target):\n",
    "    res = []\n",
    "    def backtrack(start, target, path):\n",
    "        if target == 0:\n",
    "            res.append(path[:])\n",
    "            return\n",
    "        for i in range(start, len(candidates)):\n",
    "            if candidates[i] <= target:\n",
    "                path.append(candidates[i])\n",
    "                backtrack(i, target - candidates[i], path)\n",
    "                path.pop()\n",
    "    backtrack(0, target, [])\n",
    "    return res"
   ]
  },
  {
   "cell_type": "markdown",
   "id": "2e7425f6",
   "metadata": {},
   "source": [
    "## 🔍 7. String Matching"
   ]
  },
  {
   "cell_type": "code",
   "execution_count": null,
   "id": "f74e968c",
   "metadata": {},
   "outputs": [],
   "source": [
    "def rabinKarp(txt, pat, q=101):\n",
    "    d = 256\n",
    "    M = len(pat)\n",
    "    N = len(txt)\n",
    "    h = pow(d, M-1) % q\n",
    "    p = t = 0\n",
    "    for i in range(M):\n",
    "        p = (d*p + ord(pat[i])) % q\n",
    "        t = (d*t + ord(txt[i])) % q\n",
    "    for i in range(N - M + 1):\n",
    "        if p == t:\n",
    "            if txt[i:i+M] == pat:\n",
    "                print(\"Pattern found at index\", i)\n",
    "        if i < N - M:\n",
    "            t = (d*(t - ord(txt[i])*h) + ord(txt[i+M])) % q\n",
    "            if t < 0: t += q"
   ]
  },
  {
   "cell_type": "code",
   "execution_count": null,
   "id": "cf1838e3",
   "metadata": {},
   "outputs": [],
   "source": [
    "def strStr(haystack, needle):\n",
    "    return haystack.find(needle)"
   ]
  },
  {
   "cell_type": "code",
   "execution_count": null,
   "id": "d9bbd3e8",
   "metadata": {},
   "outputs": [],
   "source": [
    "def repeatedStringMatch(a, b):\n",
    "    times = -(-len(b) // len(a))\n",
    "    for i in range(times, times+3):\n",
    "        if b in a*i:\n",
    "            return i\n",
    "    return -1"
   ]
  }
 ],
 "metadata": {},
 "nbformat": 4,
 "nbformat_minor": 5
}
