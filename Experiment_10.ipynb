{
 "cells": [
  {
   "cell_type": "code",
   "execution_count": null,
   "id": "ce2937b6-65e5-481c-aa95-a66c5fc6bcce",
   "metadata": {},
   "outputs": [
    {
     "name": "stdout",
     "output_type": "stream",
     "text": [
      "[1 2 3 4 5]\n"
     ]
    }
   ],
   "source": [
    "# np.array(): Create a NumPy array from a list or tuple.\n",
    "\n",
    "%pip install numpy\n",
    "import numpy as np\n",
    "list_data = [1, 2, 3, 4, 5]\n",
    "array_from_list = np.array(list_data)\n",
    "print(array_from_list)"
   ]
  },
  {
   "cell_type": "code",
   "execution_count": 58,
   "id": "1c4c6a24-4292-4c7b-8042-5f0bafdeaaae",
   "metadata": {},
   "outputs": [
    {
     "name": "stdout",
     "output_type": "stream",
     "text": [
      "[[0. 0. 0.]\n",
      " [0. 0. 0.]\n",
      " [0. 0. 0.]]\n"
     ]
    }
   ],
   "source": [
    "# 2. np.zeros(): Create an array filled with zeros.\n",
    "zeros_array = np.zeros((3, 3))\n",
    "print(zeros_array)"
   ]
  },
  {
   "cell_type": "code",
   "execution_count": 60,
   "id": "8012ea34-0656-44ca-a829-d695c04bc491",
   "metadata": {},
   "outputs": [
    {
     "name": "stdout",
     "output_type": "stream",
     "text": [
      "[[1. 1.]\n",
      " [1. 1.]]\n"
     ]
    }
   ],
   "source": [
    "# 3. np.ones(): Create an array filled with ones.\n",
    "ones_array = np.ones((2, 2))  \n",
    "print(ones_array)"
   ]
  },
  {
   "cell_type": "code",
   "execution_count": 62,
   "id": "e79b8d38-85a0-4120-b74b-9d44aacb2e81",
   "metadata": {},
   "outputs": [
    {
     "name": "stdout",
     "output_type": "stream",
     "text": [
      "[0 2 4 6 8]\n"
     ]
    }
   ],
   "source": [
    "# 4. np.arange(): Create an array with a range of values.\n",
    "range_array = np.arange(0, 10, 2)  \n",
    "print(range_array)"
   ]
  },
  {
   "cell_type": "code",
   "execution_count": 64,
   "id": "d302a7db-c14d-409c-b48f-f1fdf7903e1b",
   "metadata": {},
   "outputs": [
    {
     "name": "stdout",
     "output_type": "stream",
     "text": [
      "[0.   0.25 0.5  0.75 1.  ]\n"
     ]
    }
   ],
   "source": [
    "# 5. np.linspace(): Create an array with evenly spaced values over a specified interval.\n",
    "linspace_array = np.linspace(0, 1, 5)  \n",
    "print(linspace_array)"
   ]
  },
  {
   "cell_type": "code",
   "execution_count": 66,
   "id": "4ce4d521-33a1-405a-b960-4b2c9d4c85fa",
   "metadata": {},
   "outputs": [
    {
     "name": "stdout",
     "output_type": "stream",
     "text": [
      "[[0]\n",
      " [2]\n",
      " [4]\n",
      " [6]\n",
      " [8]]\n"
     ]
    }
   ],
   "source": [
    "# 6. np.reshape(): Change the shape of an array without changing its data.\n",
    "import numpy as np\n",
    "\n",
    "# Define the array with 5 elements\n",
    "range_array = np.array([0, 2, 4, 6, 8])\n",
    "\n",
    "# Reshape the array to (5, 1) since it has 5 elements\n",
    "reshaped_array = range_array.reshape(5, 1)\n",
    "print(reshaped_array)"
   ]
  },
  {
   "cell_type": "code",
   "execution_count": 68,
   "id": "88719309-6fcb-4e5c-bfd2-029210085d34",
   "metadata": {},
   "outputs": [
    {
     "name": "stdout",
     "output_type": "stream",
     "text": [
      "[0 2 4 6 8]\n"
     ]
    }
   ],
   "source": [
    "# 7. np.flatten(): Convert a multi-dimensional array into a 1D array.\n",
    "flattened_array = reshaped_array.flatten()  \n",
    "print(flattened_array)"
   ]
  },
  {
   "cell_type": "code",
   "execution_count": 70,
   "id": "25f5a76f-d39a-4581-9d4d-53d6c4da4642",
   "metadata": {},
   "outputs": [
    {
     "name": "stdout",
     "output_type": "stream",
     "text": [
      "[[0 2 4 6 8]]\n"
     ]
    }
   ],
   "source": [
    "# 8. np.transpose(): Transpose an array (swap rows and columns).\n",
    "transposed_array = reshaped_array.T  \n",
    "print(transposed_array)"
   ]
  },
  {
   "cell_type": "code",
   "execution_count": 72,
   "id": "e7f93e4a-c9df-4797-836f-a9bf73e04cce",
   "metadata": {},
   "outputs": [
    {
     "name": "stdout",
     "output_type": "stream",
     "text": [
      "[1 2 3 4 5 6]\n"
     ]
    }
   ],
   "source": [
    "# 9. np.concatenate(): Join two or more arrays along an axis.\n",
    "array1 = np.array([1, 2, 3])\n",
    "array2 = np.array([4, 5, 6])\n",
    "concatenated_array = np.concatenate((array1, array2))  \n",
    "print(concatenated_array)"
   ]
  },
  {
   "cell_type": "code",
   "execution_count": 2,
   "id": "5fad8895-7f53-490e-aca3-113347e4931e",
   "metadata": {},
   "outputs": [
    {
     "ename": "NameError",
     "evalue": "name 'np' is not defined",
     "output_type": "error",
     "traceback": [
      "\u001b[31m---------------------------------------------------------------------------\u001b[39m",
      "\u001b[31mNameError\u001b[39m                                 Traceback (most recent call last)",
      "\u001b[36mCell\u001b[39m\u001b[36m \u001b[39m\u001b[32mIn[2]\u001b[39m\u001b[32m, line 2\u001b[39m\n\u001b[32m      1\u001b[39m \u001b[38;5;66;03m# 10. np.split(): Split an array into multiple sub-arrays.\u001b[39;00m\n\u001b[32m----> \u001b[39m\u001b[32m2\u001b[39m split_array = \u001b[43mnp\u001b[49m.split(concatenated_array,\u001b[32m2\u001b[39m)  \n\u001b[32m      3\u001b[39m \u001b[38;5;28mprint\u001b[39m(split_array)\n",
      "\u001b[31mNameError\u001b[39m: name 'np' is not defined"
     ]
    }
   ],
   "source": [
    "# 10. np.split(): Split an array into multiple sub-arrays.\n",
    "split_array = np.split(concatenated_array,2)  \n",
    "print(split_array)"
   ]
  },
  {
   "cell_type": "code",
   "execution_count": 78,
   "id": "63971256-b086-4efa-b4a1-14a902d9ef25",
   "metadata": {},
   "outputs": [
    {
     "name": "stdout",
     "output_type": "stream",
     "text": [
      "[[1 2 3]\n",
      " [4 5 6]]\n"
     ]
    }
   ],
   "source": [
    "# 11. np.vstack(): Stack arrays vertically (row-wise).\n",
    "vstack_array = np.vstack((array1, array2)) \n",
    "print(vstack_array)"
   ]
  },
  {
   "cell_type": "code",
   "execution_count": 80,
   "id": "b76ed2f2-e212-4a95-b26c-a9f1f8024127",
   "metadata": {},
   "outputs": [
    {
     "name": "stdout",
     "output_type": "stream",
     "text": [
      "[1 2 3 4 5 6]\n"
     ]
    }
   ],
   "source": [
    "# 12. np.hstack(): Stack arrays horizontally (column-wise).\n",
    "hstack_array = np.hstack((array1, array2))  \n",
    "print(hstack_array)"
   ]
  },
  {
   "cell_type": "code",
   "execution_count": 82,
   "id": "a9d3ce9b-d730-4b1a-b5aa-5381235fecab",
   "metadata": {},
   "outputs": [
    {
     "name": "stdout",
     "output_type": "stream",
     "text": [
      "[1 2 3 7]\n"
     ]
    }
   ],
   "source": [
    "# 13. np.append(): Append values to the end of an array.\n",
    "appended_array = np.append(array1, 7)\n",
    "print(appended_array)"
   ]
  },
  {
   "cell_type": "code",
   "execution_count": 84,
   "id": "61afe7d6-8f3b-4ce4-9309-61ff12852700",
   "metadata": {},
   "outputs": [
    {
     "name": "stdout",
     "output_type": "stream",
     "text": [
      "[1 3]\n"
     ]
    }
   ],
   "source": [
    "# 14. np.delete(): Delete elements from an array along a specified axis.\n",
    "deleted_array = np.delete(array1, 1)  \n",
    "print(deleted_array)"
   ]
  },
  {
   "cell_type": "code",
   "execution_count": 88,
   "id": "98fbab33-ceab-404f-8e78-c63b32046184",
   "metadata": {},
   "outputs": [
    {
     "name": "stdout",
     "output_type": "stream",
     "text": [
      "[ 1 99  2  3]\n"
     ]
    }
   ],
   "source": [
    "# 15. np.insert(): Insert values into an array at specified positions.\n",
    "inserted_array = np.insert(array1, 1, 99) \n",
    "print(inserted_array)"
   ]
  },
  {
   "cell_type": "code",
   "execution_count": 90,
   "id": "2428d118-6376-4f87-b8fb-5311bf3a0460",
   "metadata": {},
   "outputs": [
    {
     "name": "stdout",
     "output_type": "stream",
     "text": [
      "\n",
      "arr[i] (accessed element at index 2):\n",
      "3\n"
     ]
    }
   ],
   "source": [
    "# 16. arr[i]: Access an element of an array at index i.\n",
    "accessed_element = array1[2] \n",
    "print(accessed_element)"
   ]
  },
  {
   "cell_type": "code",
   "execution_count": 92,
   "id": "f9888de1-1119-4156-b01a-b8abf52f6f4e",
   "metadata": {},
   "outputs": [
    {
     "name": "stdout",
     "output_type": "stream",
     "text": [
      "\n",
      "arr[i:j] (slice array from index 1 to 3):\n",
      "[2 3]\n"
     ]
    }
   ],
   "source": [
    "# 17. arr[i:j]: Slice an array from index i to j (exclusive).\n",
    "sliced_array = array1[1:3]  \n",
    "print(sliced_array)"
   ]
  },
  {
   "cell_type": "code",
   "execution_count": 94,
   "id": "cb35523f-8861-4553-b309-142c212bd514",
   "metadata": {},
   "outputs": [
    {
     "name": "stdout",
     "output_type": "stream",
     "text": [
      "[1 3]\n"
     ]
    }
   ],
   "source": [
    "# 18. arr[start:end:step]: Slice an array with a step between start and end.\n",
    "stepped_slice = array1[::2] \n",
    "print(stepped_slice)"
   ]
  },
  {
   "cell_type": "code",
   "execution_count": 96,
   "id": "6862660f-22b0-42fa-978a-64e94c4f3ae5",
   "metadata": {},
   "outputs": [
    {
     "name": "stdout",
     "output_type": "stream",
     "text": [
      "[[1 2 3]\n",
      " [4 5 6]\n",
      " [7 8 9]]\n"
     ]
    }
   ],
   "source": [
    "# 19. arr[:, :]: Access all elements along rows and columns (for 1D, 2D, and 3D arrays).\n",
    "multi_dim_array = np.array([[1, 2, 3], [4, 5, 6], [7, 8, 9]])\n",
    "accessed_all = multi_dim_array[:, :] \n",
    "print(accessed_all)"
   ]
  },
  {
   "cell_type": "code",
   "execution_count": null,
   "id": "7b3a28fe-d716-41a0-b655-0acf649210a8",
   "metadata": {},
   "outputs": [],
   "source": []
  }
 ],
 "metadata": {
  "kernelspec": {
   "display_name": "Python 3",
   "language": "python",
   "name": "python3"
  },
  "language_info": {
   "codemirror_mode": {
    "name": "ipython",
    "version": 3
   },
   "file_extension": ".py",
   "mimetype": "text/x-python",
   "name": "python",
   "nbconvert_exporter": "python",
   "pygments_lexer": "ipython3",
   "version": "3.11.6"
  }
 },
 "nbformat": 4,
 "nbformat_minor": 5
}
